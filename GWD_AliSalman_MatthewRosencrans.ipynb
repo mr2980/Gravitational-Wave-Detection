{
  "cells": [
    {
      "cell_type": "markdown",
      "metadata": {
        "id": "view-in-github",
        "colab_type": "text"
      },
      "source": [
        "<a href=\"https://colab.research.google.com/github/mr2980/Gravitational-Wave-Detection/blob/main/GWD_AliSalman_MatthewRosencrans.ipynb\" target=\"_parent\"><img src=\"https://colab.research.google.com/assets/colab-badge.svg\" alt=\"Open In Colab\"/></a>"
      ]
    },
    {
      "cell_type": "markdown",
      "metadata": {
        "id": "7f1be33f"
      },
      "source": [
        "# Gravitation Wave Detection \n",
        ""
      ],
      "id": "7f1be33f"
    },
    {
      "cell_type": "markdown",
      "metadata": {
        "id": "af7b72a9"
      },
      "source": [
        "CNN Architecture"
      ],
      "id": "af7b72a9"
    },
    {
      "cell_type": "markdown",
      "metadata": {
        "id": "bf02d733"
      },
      "source": [
        "### Collaborators:\n",
        "Matthew Rosencrans, Ali Salman"
      ],
      "id": "bf02d733"
    },
    {
      "cell_type": "markdown",
      "metadata": {
        "id": "a935c2e8"
      },
      "source": [
        "--------------------"
      ],
      "id": "a935c2e8"
    },
    {
      "cell_type": "markdown",
      "metadata": {
        "id": "855b4738"
      },
      "source": [
        "## Prepare Data"
      ],
      "id": "855b4738"
    },
    {
      "cell_type": "code",
      "execution_count": null,
      "metadata": {
        "colab": {
          "base_uri": "https://localhost:8080/"
        },
        "id": "8382e6f7",
        "outputId": "17940804-320b-41de-8701-85247cf44808"
      },
      "outputs": [
        {
          "output_type": "stream",
          "name": "stdout",
          "text": [
            "Mounted at /content/drive/\n"
          ]
        }
      ],
      "source": [
        "import numpy as np\n",
        "import torch\n",
        "from google.colab import drive\n",
        "drive.mount('/content/drive/')\n",
        "import h5py \n",
        "valid = h5py.File('/content/drive/My Drive/CCSN_Pan_SNR_Free_Test_Validation.h5','r')"
      ],
      "id": "8382e6f7"
    },
    {
      "cell_type": "code",
      "execution_count": null,
      "metadata": {
        "id": "_lAYg_ChFqGo"
      },
      "outputs": [],
      "source": [
        "free = h5py.File('/content/drive/My Drive/CCSN_Pan_SNR_Free.h5','r') "
      ],
      "id": "_lAYg_ChFqGo"
    },
    {
      "cell_type": "code",
      "execution_count": null,
      "metadata": {
        "id": "qfHe-ID5GHSM"
      },
      "outputs": [],
      "source": [
        "signal_nr = free['Model_NR']['Hp']\n",
        "signal_sr = free['Model_SR']['Hp']\n",
        "signal_fr = free['Model_FR']['Hp']\n",
        "noise = free['Noise']['Strain']"
      ],
      "id": "qfHe-ID5GHSM"
    },
    {
      "cell_type": "code",
      "execution_count": null,
      "metadata": {
        "colab": {
          "base_uri": "https://localhost:8080/"
        },
        "id": "sXU8TEDmQax_",
        "outputId": "584c427f-8277-45ad-cd2a-f9995b3acd03"
      },
      "outputs": [
        {
          "output_type": "stream",
          "name": "stdout",
          "text": [
            "(21600,)\n"
          ]
        }
      ],
      "source": [
        "# Import the desired amount of data and create targets list\n",
        "noise_import = 10800\n",
        "signal_import = 3600\n",
        "zeros = np.zeros(noise_import)\n",
        "ones = np.ones(3*signal_import)\n",
        "targets = np.hstack((zeros,ones))\n",
        "print(targets.shape)"
      ],
      "id": "sXU8TEDmQax_"
    },
    {
      "cell_type": "code",
      "execution_count": null,
      "metadata": {
        "id": "7X8YUi2sGI4q"
      },
      "outputs": [],
      "source": [
        "# Create trining data\n",
        "import numpy as np\n",
        "noise_np = np.array(noise[0:noise_import])\n",
        "signal_nr_np = np.array(signal_nr[0:signal_import])\n",
        "signal_sr_np = np.array(signal_sr[0:signal_import])\n",
        "signal_fr_np = np.array(signal_fr[0:signal_import])\n",
        "\n",
        "noise_signal = np.vstack((noise_np,signal_nr_np,signal_sr_np,signal_fr_np))"
      ],
      "id": "7X8YUi2sGI4q"
    },
    {
      "cell_type": "code",
      "execution_count": null,
      "metadata": {
        "colab": {
          "base_uri": "https://localhost:8080/"
        },
        "id": "kIyd3c8PG2V2",
        "outputId": "6d3ff8be-c9ff-4bbe-8388-d904f83a3318"
      },
      "outputs": [
        {
          "output_type": "stream",
          "name": "stdout",
          "text": [
            "(3600, 8192)\n",
            "(10800, 8192)\n",
            "(3600, 8192)\n",
            "(3600, 8192)\n"
          ]
        }
      ],
      "source": [
        "# Check sizes\n",
        "print(signal_nr_np.shape)\n",
        "print(noise_np.shape)\n",
        "print(signal_sr_np.shape)\n",
        "print(signal_fr_np.shape)"
      ],
      "id": "kIyd3c8PG2V2"
    },
    {
      "cell_type": "code",
      "execution_count": null,
      "metadata": {
        "id": "LFmaLyhTJttZ"
      },
      "outputs": [],
      "source": [
        "# Split in into training and validation sets\n",
        "from sklearn.preprocessing import StandardScaler\n",
        "from sklearn.model_selection import train_test_split\n",
        "scaler = StandardScaler()\n",
        "noise_train, noise_valid, target_train, target_valid= train_test_split(noise_signal,targets,train_size = 0.9, test_size = 0.1, random_state = True)\n"
      ],
      "id": "LFmaLyhTJttZ"
    },
    {
      "cell_type": "code",
      "execution_count": null,
      "metadata": {
        "colab": {
          "base_uri": "https://localhost:8080/"
        },
        "id": "IAi5k79sFx94",
        "outputId": "337f9969-9071-4b71-f8a9-6bb4aa20e124"
      },
      "outputs": [
        {
          "output_type": "stream",
          "name": "stdout",
          "text": [
            "[[-1.0165807  -0.71419202 -0.7140877  ... -0.37492578 -0.38815545\n",
            "   1.85495349]\n",
            " [ 2.42675197 -0.10610247 -0.29461901 ... -1.22342321 -1.45445159\n",
            "  -0.1713078 ]\n",
            " [ 0.22077676 -0.40158274 -0.67880729 ...  1.74479434  1.77372344\n",
            "   0.31605129]\n",
            " ...\n",
            " [ 0.37723769 -1.25336317 -1.44251144 ...  0.11567512 -0.18982957\n",
            "  -0.13924416]\n",
            " [ 0.55931279 -1.73527858 -1.62925384 ...  0.81714839  1.27685326\n",
            "   0.80709389]\n",
            " [-1.00974573  0.98723104  1.40337294 ... -1.38840215 -1.31993177\n",
            "   0.91194934]]\n",
            "(2160, 8192)\n",
            "(19440,)\n",
            "(2160,)\n"
          ]
        }
      ],
      "source": [
        "# Standard Scaling\n",
        "noise_train = scaler.fit_transform(noise_train)\n",
        "noise_valid = scaler.fit_transform(noise_valid)\n",
        "print(noise_train)\n",
        "print(noise_valid.shape)\n",
        "print(target_train.shape)\n",
        "print(target_valid.shape)"
      ],
      "id": "IAi5k79sFx94"
    },
    {
      "cell_type": "code",
      "execution_count": null,
      "metadata": {
        "id": "mUa9BxT-TnS4"
      },
      "outputs": [],
      "source": [
        "#(N,channels,length)\n",
        "noise_train = np.reshape(noise_train,((19440, 1, 8192)))\n",
        "noise_valid = np.reshape(noise_valid,((2160, 1, 8192)))\n"
      ],
      "id": "mUa9BxT-TnS4"
    },
    {
      "cell_type": "markdown",
      "metadata": {
        "id": "cfda0488"
      },
      "source": [
        "## Define Model"
      ],
      "id": "cfda0488"
    },
    {
      "cell_type": "code",
      "execution_count": null,
      "metadata": {
        "id": "55d5426b"
      },
      "outputs": [],
      "source": [
        "# class represents CNN model for gravity wave classification \n",
        "class CNNModel(torch.nn.Module):\n",
        "    # used three convolutional layers along with three max pool layers. The dimensions are preserved through each \n",
        "    # convolutional layer but reduced through the maxpool layers. The number of channels are doubled through each maxpool \n",
        "    # layer starting with 1 channel to 16.\n",
        "    def __init__(self):\n",
        "        \n",
        "        super(CNNModel, self).__init__()\n",
        "        \n",
        "        \n",
        "        # First convolution layer (1 channel -> 16 channels, preserve original dimension by adding padding = 2)\n",
        "        self.cnn1 = torch.nn.Conv1d(in_channels=1, out_channels=16, \n",
        "                              kernel_size=20, stride=1, padding=2)\n",
        "        \n",
        "        # First max pooling layer with kernel size = 2\n",
        "        self.maxpool1 = torch.nn.MaxPool1d(kernel_size=2)\n",
        "         \n",
        "        # Second convolution layer (16 channel -> 32 channels, preserve dimension by adding padding = 2)\n",
        "        self.cnn2 = torch.nn.Conv1d(in_channels=16, out_channels=32, \n",
        "                              kernel_size=20, stride=1, padding=2)\n",
        "        \n",
        "        # Second max pooling layer with kernel size = 2\n",
        "        self.maxpool2 = torch.nn.MaxPool1d(kernel_size=2)\n",
        "        \n",
        "        # Second convolution layer (32 channel -> 64 channels, preserve dimension by adding padding = 2)\n",
        "        self.cnn3 = torch.nn.Conv1d(in_channels=32, out_channels=64, kernel_size=25, stride=1, padding=2)\n",
        "        self.maxpool3 = torch.nn.MaxPool1d(kernel_size=2)\n",
        "        \n",
        "        self.dropout = torch.nn.Dropout(p=0.1)\n",
        "\n",
        "        self.fc1 = torch.nn.Linear(64512, 1000)\n",
        "        self.fc2 = torch.nn.Linear(1000, 2)\n",
        "        \n",
        "    # feed forward function takes output from each layer and feeds it into next layer    \n",
        "    def forward(self, x):\n",
        "        \n",
        "        # input image -> conv1 -> relu -> maxpool1\n",
        "        conv1_out = torch.nn.functional.relu(self.cnn1(x))       \n",
        "        pool1_out = self.maxpool1(conv1_out)\n",
        "        \n",
        "        # maxpool1 output -> conv2 -> relu -> maxpool2\n",
        "        conv2_out = torch.nn.functional.relu(self.cnn2(pool1_out))    \n",
        "        pool2_out = self.maxpool2(conv2_out)\n",
        "        \n",
        "        # maxpool2 output -> conv3 -> relu -> maxpool3\n",
        "        conv3_out = torch.nn.functional.relu(self.cnn3(pool2_out))\n",
        "        pool3_out = self.maxpool3(conv3_out)\n",
        "        \n",
        "        # flatten the maxpool2 output to be used as input into FCN layer\n",
        "        fcn_input = pool3_out.view(pool3_out.size(0), -1)\n",
        "    \n",
        "        # Use the raw output of the fully connected layer as the final output\n",
        "        output = self.fc1(fcn_input)\n",
        "        output = self.dropout(output)\n",
        "        output = self.fc2(output)\n",
        "\n",
        "        \n",
        "        return output"
      ],
      "id": "55d5426b"
    },
    {
      "cell_type": "markdown",
      "metadata": {
        "id": "aac20f78"
      },
      "source": [
        "## Define Hyperparameters"
      ],
      "id": "aac20f78"
    },
    {
      "cell_type": "code",
      "execution_count": null,
      "metadata": {
        "colab": {
          "base_uri": "https://localhost:8080/"
        },
        "id": "4df0fd7d",
        "outputId": "5c07df61-dbfb-4bee-b45c-3d39ec344093"
      },
      "outputs": [
        {
          "output_type": "execute_result",
          "data": {
            "text/plain": [
              "CNNModel(\n",
              "  (cnn1): Conv1d(1, 16, kernel_size=(20,), stride=(1,), padding=(2,))\n",
              "  (maxpool1): MaxPool1d(kernel_size=2, stride=2, padding=0, dilation=1, ceil_mode=False)\n",
              "  (cnn2): Conv1d(16, 32, kernel_size=(20,), stride=(1,), padding=(2,))\n",
              "  (maxpool2): MaxPool1d(kernel_size=2, stride=2, padding=0, dilation=1, ceil_mode=False)\n",
              "  (cnn3): Conv1d(32, 64, kernel_size=(25,), stride=(1,), padding=(2,))\n",
              "  (maxpool3): MaxPool1d(kernel_size=2, stride=2, padding=0, dilation=1, ceil_mode=False)\n",
              "  (dropout): Dropout(p=0.1, inplace=False)\n",
              "  (fc1): Linear(in_features=64512, out_features=1000, bias=True)\n",
              "  (fc2): Linear(in_features=1000, out_features=2, bias=True)\n",
              ")"
            ]
          },
          "metadata": {},
          "execution_count": 11
        }
      ],
      "source": [
        "torch.manual_seed(1)\n",
        "cnnModel = CNNModel()\n",
        "\n",
        "learning_rate = 0.0003\n",
        "epochs = 20\n",
        "batchsize = 250 #data is split into batches \n",
        "\n",
        "loss_func = torch.nn.CrossEntropyLoss()\n",
        "optimizer = torch.optim.Adam(cnnModel.parameters(), lr = learning_rate)\n",
        "\n",
        "cnnModel.cuda()"
      ],
      "id": "4df0fd7d"
    },
    {
      "cell_type": "markdown",
      "metadata": {
        "id": "ff8fba0e"
      },
      "source": [
        "## Identify Tracked Values"
      ],
      "id": "ff8fba0e"
    },
    {
      "cell_type": "code",
      "execution_count": null,
      "metadata": {
        "id": "eccf5783"
      },
      "outputs": [],
      "source": [
        "train_loss_list = []\n",
        "validation_accuracy_list = np.zeros((epochs,))"
      ],
      "id": "eccf5783"
    },
    {
      "cell_type": "markdown",
      "metadata": {
        "id": "c403ae44"
      },
      "source": [
        "## Train Model"
      ],
      "id": "c403ae44"
    },
    {
      "cell_type": "code",
      "execution_count": null,
      "metadata": {
        "colab": {
          "base_uri": "https://localhost:8080/"
        },
        "id": "7b1a7f17",
        "outputId": "671b5409-5a85-4acc-f5b4-b304a3dd16ee"
      },
      "outputs": [
        {
          "output_type": "stream",
          "name": "stderr",
          "text": [
            "\r  0%|          | 0/20 [00:00<?, ?it/s]"
          ]
        },
        {
          "output_type": "stream",
          "name": "stdout",
          "text": [
            "Epoch: 0 Validation Accuracy: 49.35%\n"
          ]
        },
        {
          "output_type": "stream",
          "name": "stderr",
          "text": [
            "\r  5%|▌         | 1/20 [00:19<06:04, 19.19s/it]"
          ]
        },
        {
          "output_type": "stream",
          "name": "stdout",
          "text": [
            "Average Training Loss: 1.1004927188922198\n",
            "Epoch: 1 Validation Accuracy: 83.29%\n"
          ]
        },
        {
          "output_type": "stream",
          "name": "stderr",
          "text": [
            "\r 10%|█         | 2/20 [00:37<05:40, 18.94s/it]"
          ]
        },
        {
          "output_type": "stream",
          "name": "stdout",
          "text": [
            "Average Training Loss: 0.5102100815528479\n",
            "Epoch: 2 Validation Accuracy: 85.46%\n"
          ]
        },
        {
          "output_type": "stream",
          "name": "stderr",
          "text": [
            "\r 15%|█▌        | 3/20 [00:57<05:23, 19.05s/it]"
          ]
        },
        {
          "output_type": "stream",
          "name": "stdout",
          "text": [
            "Average Training Loss: 0.35027967202357757\n",
            "Epoch: 3 Validation Accuracy: 84.91%\n"
          ]
        },
        {
          "output_type": "stream",
          "name": "stderr",
          "text": [
            "\r 20%|██        | 4/20 [01:16<05:08, 19.25s/it]"
          ]
        },
        {
          "output_type": "stream",
          "name": "stdout",
          "text": [
            "Average Training Loss: 0.3339983005172167\n",
            "Epoch: 4 Validation Accuracy: 85.65%\n"
          ]
        },
        {
          "output_type": "stream",
          "name": "stderr",
          "text": [
            "\r 25%|██▌       | 5/20 [01:36<04:53, 19.59s/it]"
          ]
        },
        {
          "output_type": "stream",
          "name": "stdout",
          "text": [
            "Average Training Loss: 0.3247730844678023\n",
            "Epoch: 5 Validation Accuracy: 86.9%\n"
          ]
        },
        {
          "output_type": "stream",
          "name": "stderr",
          "text": [
            "\r 30%|███       | 6/20 [01:57<04:37, 19.84s/it]"
          ]
        },
        {
          "output_type": "stream",
          "name": "stdout",
          "text": [
            "Average Training Loss: 0.3163441255306586\n",
            "Epoch: 6 Validation Accuracy: 87.08%\n"
          ]
        },
        {
          "output_type": "stream",
          "name": "stderr",
          "text": [
            "\r 35%|███▌      | 7/20 [02:17<04:18, 19.85s/it]"
          ]
        },
        {
          "output_type": "stream",
          "name": "stdout",
          "text": [
            "Average Training Loss: 0.3100752727343486\n",
            "Epoch: 7 Validation Accuracy: 87.36%\n"
          ]
        },
        {
          "output_type": "stream",
          "name": "stderr",
          "text": [
            "\r 40%|████      | 8/20 [02:36<03:58, 19.84s/it]"
          ]
        },
        {
          "output_type": "stream",
          "name": "stdout",
          "text": [
            "Average Training Loss: 0.30006060825708586\n",
            "Epoch: 8 Validation Accuracy: 87.5%\n"
          ]
        },
        {
          "output_type": "stream",
          "name": "stderr",
          "text": [
            "\r 45%|████▌     | 9/20 [02:56<03:38, 19.90s/it]"
          ]
        },
        {
          "output_type": "stream",
          "name": "stdout",
          "text": [
            "Average Training Loss: 0.2939754267915701\n",
            "Epoch: 9 Validation Accuracy: 87.55%\n"
          ]
        },
        {
          "output_type": "stream",
          "name": "stderr",
          "text": [
            "\r 50%|█████     | 10/20 [03:17<03:19, 19.95s/it]"
          ]
        },
        {
          "output_type": "stream",
          "name": "stdout",
          "text": [
            "Average Training Loss: 0.2861218519317798\n",
            "Epoch: 10 Validation Accuracy: 88.15%\n"
          ]
        },
        {
          "output_type": "stream",
          "name": "stderr",
          "text": [
            "\r 55%|█████▌    | 11/20 [03:37<02:59, 19.99s/it]"
          ]
        },
        {
          "output_type": "stream",
          "name": "stdout",
          "text": [
            "Average Training Loss: 0.2775120714153999\n",
            "Epoch: 11 Validation Accuracy: 88.56%\n"
          ]
        },
        {
          "output_type": "stream",
          "name": "stderr",
          "text": [
            "\r 60%|██████    | 12/20 [03:56<02:39, 19.97s/it]"
          ]
        },
        {
          "output_type": "stream",
          "name": "stdout",
          "text": [
            "Average Training Loss: 0.2683446726355797\n",
            "Epoch: 12 Validation Accuracy: 88.75%\n"
          ]
        },
        {
          "output_type": "stream",
          "name": "stderr",
          "text": [
            "\r 65%|██████▌   | 13/20 [04:17<02:19, 19.99s/it]"
          ]
        },
        {
          "output_type": "stream",
          "name": "stdout",
          "text": [
            "Average Training Loss: 0.26103364332364154\n",
            "Epoch: 13 Validation Accuracy: 88.19%\n"
          ]
        },
        {
          "output_type": "stream",
          "name": "stderr",
          "text": [
            "\r 70%|███████   | 14/20 [04:37<02:00, 20.01s/it]"
          ]
        },
        {
          "output_type": "stream",
          "name": "stdout",
          "text": [
            "Average Training Loss: 0.2588300089805554\n",
            "Epoch: 14 Validation Accuracy: 88.94%\n"
          ]
        },
        {
          "output_type": "stream",
          "name": "stderr",
          "text": [
            "\r 75%|███████▌  | 15/20 [04:57<01:40, 20.02s/it]"
          ]
        },
        {
          "output_type": "stream",
          "name": "stdout",
          "text": [
            "Average Training Loss: 0.2431432782457425\n",
            "Epoch: 15 Validation Accuracy: 89.26%\n"
          ]
        },
        {
          "output_type": "stream",
          "name": "stderr",
          "text": [
            "\r 80%|████████  | 16/20 [05:17<01:20, 20.02s/it]"
          ]
        },
        {
          "output_type": "stream",
          "name": "stdout",
          "text": [
            "Average Training Loss: 0.22794343263675004\n",
            "Epoch: 16 Validation Accuracy: 89.17%\n"
          ]
        },
        {
          "output_type": "stream",
          "name": "stderr",
          "text": [
            "\r 85%|████████▌ | 17/20 [05:37<01:00, 20.00s/it]"
          ]
        },
        {
          "output_type": "stream",
          "name": "stdout",
          "text": [
            "Average Training Loss: 0.2164525683873739\n",
            "Epoch: 17 Validation Accuracy: 88.24%\n"
          ]
        },
        {
          "output_type": "stream",
          "name": "stderr",
          "text": [
            "\r 90%|█████████ | 18/20 [05:57<00:40, 20.01s/it]"
          ]
        },
        {
          "output_type": "stream",
          "name": "stdout",
          "text": [
            "Average Training Loss: 0.20676316951329893\n",
            "Epoch: 18 Validation Accuracy: 88.56%\n"
          ]
        },
        {
          "output_type": "stream",
          "name": "stderr",
          "text": [
            "\r 95%|█████████▌| 19/20 [06:17<00:20, 20.02s/it]"
          ]
        },
        {
          "output_type": "stream",
          "name": "stdout",
          "text": [
            "Average Training Loss: 0.1963632175555596\n",
            "Epoch: 19 Validation Accuracy: 88.19%\n"
          ]
        },
        {
          "output_type": "stream",
          "name": "stderr",
          "text": [
            "100%|██████████| 20/20 [06:37<00:00, 19.86s/it]"
          ]
        },
        {
          "output_type": "stream",
          "name": "stdout",
          "text": [
            "Average Training Loss: 0.19090487368595907\n"
          ]
        },
        {
          "output_type": "stream",
          "name": "stderr",
          "text": [
            "\n"
          ]
        }
      ],
      "source": [
        "#convert data to torch arrays\n",
        "import tqdm\n",
        "noise_train = torch.from_numpy(noise_train).float().cuda()\n",
        "target_train = torch.from_numpy(target_train).long().cuda()\n",
        "\n",
        "noise_valid = torch.from_numpy(noise_valid).float().cuda()\n",
        "target_valid = torch.from_numpy(target_valid).long().cuda()\n",
        "\n",
        "noise_train_batches = torch.split(noise_train, batchsize)\n",
        "target_train_batches = torch.split(target_train, batchsize)\n",
        "\n",
        "\n",
        "batch_split_num = len(noise_train_batches)\n",
        "\n",
        "# Training Loop ---------------------------------------------------------------------------------------\n",
        "# where the model training will take place \n",
        "# will keep track of the training loss every epoch\n",
        "# for each epoch, compute according to batch size\n",
        "for epoch in tqdm.trange(epochs):\n",
        "    for k in range(batch_split_num):\n",
        "\n",
        "        optimizer.zero_grad()\n",
        "\n",
        "        train_batch_outputs = cnnModel(noise_train_batches[k])\n",
        "\n",
        "        loss = loss_func(train_batch_outputs, target_train_batches[k])\n",
        "\n",
        "        train_loss_list.append(loss.item())\n",
        "\n",
        "        loss.backward()\n",
        "\n",
        "        optimizer.step()\n",
        "\n",
        "    # Compute Validation Accuracy ----------------------------------------------------------------------\n",
        "    # keep track of validation accuracy for later\n",
        "    with torch.no_grad():\n",
        "\n",
        "        validation_outputs = cnnModel(noise_valid)\n",
        "\n",
        "        correct = (torch.argmax(validation_outputs, dim=1) == \n",
        "                   target_valid).type(torch.FloatTensor)\n",
        "        \n",
        "        #print(\"validation output: \" , validation_outputs.shape)\n",
        "        #print(\"target valid \", target_valid.shape)\n",
        "        print(\"Epoch: \"+ str(epoch), \n",
        "              \"Validation Accuracy: \" + str(np.round(correct.mean().numpy() * 100, 2)) + '%', flush=True)\n",
        "\n",
        "        validation_accuracy_list[epoch] = correct.mean()\n",
        "      \n",
        "    print(\"Average Training Loss: \" + str(np.mean(train_loss_list[-batch_split_num:])))"
      ],
      "id": "7b1a7f17"
    },
    {
      "cell_type": "markdown",
      "metadata": {
        "id": "e1b49cc5"
      },
      "source": [
        "## Visualize & Evaluate Model"
      ],
      "id": "e1b49cc5"
    },
    {
      "cell_type": "code",
      "execution_count": null,
      "metadata": {
        "id": "1d4440cd",
        "colab": {
          "base_uri": "https://localhost:8080/",
          "height": 570
        },
        "outputId": "b40c2713-6233-423c-8a7a-b9347c8cf70f"
      },
      "outputs": [
        {
          "output_type": "display_data",
          "data": {
            "text/plain": [
              "<Figure size 1080x648 with 2 Axes>"
            ],
            "image/png": "[encoded data removed]"
          },
          "metadata": {}
        }
      ],
      "source": [
        "# Plot Loss and Validation Accuracy\n",
        "%matplotlib inline\n",
        "\n",
        "import matplotlib.pyplot as plt\n",
        "import seaborn as sns\n",
        "sns.set(style = 'whitegrid', font_scale = 1.5)\n",
        "\n",
        "plt.figure(figsize = (15, 9))\n",
        "\n",
        "plt.subplot(2, 1, 1)\n",
        "plt.plot(train_loss_list[5:], linewidth = 3)\n",
        "plt.ylabel(\"training loss\")\n",
        "plt.xlabel(\"Iterations\")\n",
        "sns.despine()\n",
        "\n",
        "plt.subplot(2, 1, 2)\n",
        "plt.plot(validation_accuracy_list, linewidth = 3, color = 'gold')\n",
        "plt.ylabel(\"validation accuracy\")\n",
        "plt.xlabel(\"Epochs\")\n",
        "sns.despine()"
      ],
      "id": "1d4440cd"
    },
    {
      "cell_type": "markdown",
      "source": [
        "##Test Model\n"
      ],
      "metadata": {
        "id": "-EJLflTq6FWV"
      },
      "id": "-EJLflTq6FWV"
    },
    {
      "cell_type": "code",
      "source": [
        "# Import Testing Data\n",
        "cnnModel.cpu()\n",
        "signal_nr_test = valid['Model_NR']['Hp']\n",
        "signal_sr_test = valid['Model_SR']['Hp']\n",
        "signal_fr_test = valid['Model_FR']['Hp']\n",
        "noise_test = valid['Noise']['Strain']\n",
        "\n",
        "# Import subset of testing data\n",
        "noise_test = np.array(noise_test[0:600])\n",
        "signal_nr_test = np.array(signal_nr_test[0:200])\n",
        "signal_sr_test = np.array(signal_sr_test[0:200])\n",
        "signal_fr_test = np.array(signal_fr_test[0:200])\n",
        "\n",
        "print(noise_test.shape)\n",
        "print(signal_nr_test.shape)\n",
        "\n",
        "# Create targets\n",
        "zeros = np.zeros(600)\n",
        "ones = np.ones(3*200)\n",
        "targets_test = np.hstack((zeros,ones))\n",
        "print(targets_test.shape)\n",
        "\n",
        "nr_target = np.full((200,), 1)\n",
        "sr_target = np.full((200,), 1)\n",
        "fr_target = np.full((200,), 1)\n",
        "\n",
        "noise_signal_test = np.vstack((noise_test,signal_nr_test,signal_sr_test,signal_fr_test))\n",
        "noise_signal_test = scaler.fit_transform(noise_signal_test)\n",
        "print(noise_signal_test.shape)\n",
        "noise_signal_test = np.reshape(noise_signal_test,((1200, 1, 8192)))\n",
        "\n",
        "noise_signal_test = torch.from_numpy(noise_signal_test).float()\n",
        "targets_test = torch.from_numpy(targets_test).long()\n",
        "\n",
        "# Test trained model\n",
        "with torch.no_grad():\n",
        "    \n",
        "    pred_test = cnnModel(noise_signal_test)\n",
        "     \n",
        "    correct = (torch.argmax(pred_test, dim=1) == targets_test).type(torch.FloatTensor)\n",
        "    \n",
        "    print(\"Testing Accuracy: \" + str(correct.mean().numpy()))"
      ],
      "metadata": {
        "id": "7X3I8kxS6DXc",
        "colab": {
          "base_uri": "https://localhost:8080/"
        },
        "outputId": "77cec2ef-412e-4de6-e990-f8a76e19a560"
      },
      "id": "7X3I8kxS6DXc",
      "execution_count": null,
      "outputs": [
        {
          "output_type": "stream",
          "name": "stdout",
          "text": [
            "(600, 8192)\n",
            "(200, 8192)\n",
            "(1200,)\n",
            "(1200, 8192)\n",
            "Testing Accuracy: 0.9058333\n"
          ]
        }
      ]
    },
    {
      "cell_type": "code",
      "source": [
        "# results are further split into strain types for classification and accuracy is computed for each\n",
        "with torch.no_grad():\n",
        "  noise_correct = np.array([])\n",
        "  signal_correct = np.array([])\n",
        "  nr_correct = np.array([])\n",
        "  sr_correct = np.array([])\n",
        "  fr_correct = np.array([])\n",
        "  #600, 800, 1000\n",
        "\n",
        "  # Noise\n",
        "  for i in range(600):\n",
        "    if correct[i] == 1:\n",
        "      noise_correct = np.append(noise_correct, 1)\n",
        "    else:\n",
        "      noise_correct = np.append(noise_correct, 0)\n",
        "  print(\"Noise Accuracy: \" + str(noise_correct.mean()))\n",
        "\n",
        "  # Signal\n",
        "  for i in range(600):\n",
        "    if targets_test[i+600] == correct[i+600]:\n",
        "      signal_correct = np.append(signal_correct, 1)\n",
        "    else:\n",
        "      signal_correct = np.append(signal_correct, 0)\n",
        "  print(\"Signal Accuracy: \" + str(signal_correct.mean()))\n",
        "\n",
        "  # No Rotation\n",
        "  for i in range(200):\n",
        "    if targets_test[i+600] == correct[i+600]:\n",
        "      nr_correct = np.append(nr_correct, 1)\n",
        "    else:\n",
        "      nr_correct = np.append(nr_correct, 0)\n",
        "  print(\"NR Accuracy: \" + str(nr_correct.mean()))\n",
        "\n",
        "  # Slow Rotation\n",
        "  for i in range(200):\n",
        "    if targets_test[i+800] == correct[i+800]:\n",
        "      sr_correct = np.append(sr_correct, 1)\n",
        "    else:\n",
        "      sr_correct = np.append(sr_correct, 0)\n",
        "  print(\"SR Accuracy: \" + str(sr_correct.mean()))\n",
        "\n",
        "  # Fast Rotation\n",
        "  for i in range(200):\n",
        "    if targets_test[i+1000] == correct[i+1000]:\n",
        "      fr_correct = np.append(fr_correct, 1)\n",
        "    else:\n",
        "      fr_correct = np.append(fr_correct, 0)\n",
        "  print(\"FR Accuracy: \" + str(fr_correct.mean()))\n",
        "\n",
        "  # Compute ROC values\n",
        "  from sklearn import metrics\n",
        "  fpr, tpr, _ = metrics.roc_curve(targets_test, pred_test[:,1] )\n",
        "  auc = metrics.roc_auc_score(targets_test, pred_test[:,1] )\n",
        "  from math import log10 , floor\n",
        "  def round_it(x, sig):\n",
        "    return round(x, sig-int(floor(log10(abs(x))))-1)\n",
        "  auc = round_it(auc, 4)\n",
        "\n",
        "  # Create ROC curve\n",
        "  plt.plot(fpr,tpr, label=\"AUC_Signal=\"+str(auc))\n",
        "  plt.plot([0, 1], [0, 1], \"k--\")\n",
        "  plt.ylabel('True Positive Rate')\n",
        "  plt.xlabel('False Positive Rate')\n",
        "  plt.legend(loc=4, prop={'size': 12})\n",
        "  plt.show()"
      ],
      "metadata": {
        "colab": {
          "base_uri": "https://localhost:8080/",
          "height": 385
        },
        "outputId": "6be4b996-3f32-42ed-9d98-41f4d21832fe",
        "id": "ja5JEd_TwWIj"
      },
      "execution_count": null,
      "outputs": [
        {
          "output_type": "stream",
          "name": "stdout",
          "text": [
            "Noise Accuracy: 0.9733333333333334\n",
            "Signal Accuracy: 0.8383333333333334\n",
            "NR Accuracy: 0.835\n",
            "SR Accuracy: 0.8\n",
            "FR Accuracy: 0.88\n"
          ]
        },
        {
          "output_type": "display_data",
          "data": {
            "text/plain": [
              "<Figure size 432x288 with 1 Axes>"
            ],
            "image/png": "[encoded data removed]"
          },
          "metadata": {}
        }
      ],
      "id": "ja5JEd_TwWIj"
    }
  ],
  "metadata": {
    "colab": {
      "provenance": [],
      "include_colab_link": true
    },
    "kernelspec": {
      "display_name": "Python 3 (ipykernel)",
      "language": "python",
      "name": "python3"
    },
    "language_info": {
      "codemirror_mode": {
        "name": "ipython",
        "version": 3
      },
      "file_extension": ".py",
      "mimetype": "text/x-python",
      "name": "python",
      "nbconvert_exporter": "python",
      "pygments_lexer": "ipython3",
      "version": "3.9.7"
    },
    "accelerator": "GPU",
    "gpuClass": "standard"
  },
  "nbformat": 4,
  "nbformat_minor": 5
}
